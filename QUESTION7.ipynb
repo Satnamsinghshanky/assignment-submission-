{
 "cells": [
  {
   "cell_type": "code",
   "execution_count": 2,
   "id": "715cabba-8703-4155-862d-52b76a46062e",
   "metadata": {},
   "outputs": [],
   "source": [
    "l = [2,3,4,5,6,'shanky', False] #it is mutable data type"
   ]
  },
  {
   "cell_type": "code",
   "execution_count": 3,
   "id": "85e92618-371e-4fa9-8c54-4c035755e112",
   "metadata": {},
   "outputs": [],
   "source": [
    "l[3]=6 #value has changed"
   ]
  },
  {
   "cell_type": "code",
   "execution_count": 4,
   "id": "97add761-3073-466f-a15f-214a43240192",
   "metadata": {},
   "outputs": [
    {
     "data": {
      "text/plain": [
       "[2, 3, 4, 6, 6, 'shanky', False]"
      ]
     },
     "execution_count": 4,
     "metadata": {},
     "output_type": "execute_result"
    }
   ],
   "source": [
    "l"
   ]
  },
  {
   "cell_type": "code",
   "execution_count": 9,
   "id": "c5e3c814-e538-45fd-967f-4db4c309cf6e",
   "metadata": {},
   "outputs": [],
   "source": [
    "s = 'shanky' #it is immutable data type\n"
   ]
  },
  {
   "cell_type": "code",
   "execution_count": 10,
   "id": "a24356ae-47fd-441d-acd1-e47b1c98ce93",
   "metadata": {},
   "outputs": [
    {
     "ename": "NameError",
     "evalue": "name 'u' is not defined",
     "output_type": "error",
     "traceback": [
      "\u001b[0;31m---------------------------------------------------------------------------\u001b[0m",
      "\u001b[0;31mNameError\u001b[0m                                 Traceback (most recent call last)",
      "Cell \u001b[0;32mIn[10], line 1\u001b[0m\n\u001b[0;32m----> 1\u001b[0m s[\u001b[38;5;241m1\u001b[39m] \u001b[38;5;241m=\u001b[39m \u001b[43mu\u001b[49m\n",
      "\u001b[0;31mNameError\u001b[0m: name 'u' is not defined"
     ]
    }
   ],
   "source": [
    "s[1] = u"
   ]
  },
  {
   "cell_type": "code",
   "execution_count": 11,
   "id": "f3899763-2e56-44df-ade2-6c5cde790cb9",
   "metadata": {},
   "outputs": [
    {
     "data": {
      "text/plain": [
       "'shanky'"
      ]
     },
     "execution_count": 11,
     "metadata": {},
     "output_type": "execute_result"
    }
   ],
   "source": [
    "s"
   ]
  },
  {
   "cell_type": "code",
   "execution_count": null,
   "id": "df790fbb-eeaf-43af-9a5f-b8d7d8af501a",
   "metadata": {},
   "outputs": [],
   "source": []
  }
 ],
 "metadata": {
  "kernelspec": {
   "display_name": "Python 3 (ipykernel)",
   "language": "python",
   "name": "python3"
  },
  "language_info": {
   "codemirror_mode": {
    "name": "ipython",
    "version": 3
   },
   "file_extension": ".py",
   "mimetype": "text/x-python",
   "name": "python",
   "nbconvert_exporter": "python",
   "pygments_lexer": "ipython3",
   "version": "3.10.8"
  }
 },
 "nbformat": 4,
 "nbformat_minor": 5
}
