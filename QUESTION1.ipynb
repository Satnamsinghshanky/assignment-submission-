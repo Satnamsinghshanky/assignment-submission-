{
 "cells": [
  {
   "cell_type": "code",
   "execution_count": 1,
   "id": "5e876fe8-86cb-4bd6-80e2-54f62ce1b685",
   "metadata": {},
   "outputs": [],
   "source": [
    "a = \"shanky\""
   ]
  },
  {
   "cell_type": "code",
   "execution_count": 2,
   "id": "ae9f01a7-aa19-4304-abf5-385d772a74ef",
   "metadata": {},
   "outputs": [
    {
     "data": {
      "text/plain": [
       "str"
      ]
     },
     "execution_count": 2,
     "metadata": {},
     "output_type": "execute_result"
    }
   ],
   "source": [
    "type(a)"
   ]
  },
  {
   "cell_type": "code",
   "execution_count": 4,
   "id": "eb108d31-0e57-465d-8318-b0c2415148a7",
   "metadata": {},
   "outputs": [],
   "source": [
    " l = [2,3,4,5,6, True, 37.68, 'shanky']"
   ]
  },
  {
   "cell_type": "code",
   "execution_count": 5,
   "id": "48fa5c3d-77a9-4542-937a-eff422a43587",
   "metadata": {},
   "outputs": [
    {
     "data": {
      "text/plain": [
       "list"
      ]
     },
     "execution_count": 5,
     "metadata": {},
     "output_type": "execute_result"
    }
   ],
   "source": [
    "type(l)"
   ]
  },
  {
   "cell_type": "code",
   "execution_count": 6,
   "id": "c74b0c77-85f7-4357-9c7b-c6231b6771b7",
   "metadata": {},
   "outputs": [],
   "source": [
    "b = 56.78"
   ]
  },
  {
   "cell_type": "code",
   "execution_count": 7,
   "id": "29158d68-1de8-498a-915e-c9f863c8bb5c",
   "metadata": {},
   "outputs": [
    {
     "data": {
      "text/plain": [
       "float"
      ]
     },
     "execution_count": 7,
     "metadata": {},
     "output_type": "execute_result"
    }
   ],
   "source": [
    "type(b)"
   ]
  },
  {
   "cell_type": "code",
   "execution_count": 8,
   "id": "fb339575-0298-420c-a51a-b1fe4388f1a5",
   "metadata": {},
   "outputs": [],
   "source": [
    "c = ()"
   ]
  },
  {
   "cell_type": "code",
   "execution_count": 9,
   "id": "7229d30a-0f4f-4555-89ff-a06b9fbf62c3",
   "metadata": {},
   "outputs": [
    {
     "data": {
      "text/plain": [
       "tuple"
      ]
     },
     "execution_count": 9,
     "metadata": {},
     "output_type": "execute_result"
    }
   ],
   "source": [
    "type(c)"
   ]
  },
  {
   "cell_type": "code",
   "execution_count": null,
   "id": "36dd900f-5440-483b-b997-c2214b513846",
   "metadata": {},
   "outputs": [],
   "source": []
  }
 ],
 "metadata": {
  "kernelspec": {
   "display_name": "Python 3 (ipykernel)",
   "language": "python",
   "name": "python3"
  },
  "language_info": {
   "codemirror_mode": {
    "name": "ipython",
    "version": 3
   },
   "file_extension": ".py",
   "mimetype": "text/x-python",
   "name": "python",
   "nbconvert_exporter": "python",
   "pygments_lexer": "ipython3",
   "version": "3.10.8"
  }
 },
 "nbformat": 4,
 "nbformat_minor": 5
}
